{
 "cells": [
  {
   "cell_type": "code",
   "execution_count": 55,
   "metadata": {},
   "outputs": [],
   "source": [
    "# Necessary imports\n",
    "\n",
    "import json\n",
    "import numpy as np\n",
    "import pandas as pd\n",
    "import seaborn as sns\n",
    "import matplotlib.pyplot as plt\n",
    "\n",
    "path = '/Users/emilynieves/project_440/GDC_Data_test/'"
   ]
  },
  {
   "cell_type": "code",
   "execution_count": null,
   "metadata": {},
   "outputs": [],
   "source": []
  },
  {
   "cell_type": "code",
   "execution_count": 3,
   "metadata": {},
   "outputs": [],
   "source": [
    "'''\n",
    "We need to be able to determine which files are associated with\n",
    "a given patient. The json file contains this information. Here\n",
    "we are storing all the metadata.\n",
    "'''\n",
    "\n",
    "with open('/Users/emilynieves/project_440/GDC_Metadata.json') as file:\n",
    "    json_string = file.readlines()\n",
    "    json_string = ''.join(json_string)\n",
    "metadata = json.loads(json_string)"
   ]
  },
  {
   "cell_type": "code",
   "execution_count": 4,
   "metadata": {},
   "outputs": [],
   "source": [
    "'''\n",
    "Making a dictionary where each key is the Case ID, and the value\n",
    "is a list of the files associated with each patient.\n",
    "'''\n",
    "\n",
    "# Dictionary of Case IDs\n",
    "case_id_dict = {}\n",
    "\n",
    "# For each entry in the metadata from the json file\n",
    "for entry in metadata:\n",
    "    \n",
    "    # Getting the case ID\n",
    "    case_id = entry['associated_entities'][0]['case_id']\n",
    "    # Getting the associated file name\n",
    "    file_name = entry['file_name']\n",
    "    \n",
    "    # If the Case ID is already in the dictionary, add the file\n",
    "    # name to the list of values\n",
    "    if case_id in case_id_dict:\n",
    "        case_id_dict[case_id].append(file_name)\n",
    "    # If not already in the dictionary, add new key and value\n",
    "    else:\n",
    "        case_id_dict[case_id] = [file_name]"
   ]
  },
  {
   "cell_type": "code",
   "execution_count": 5,
   "metadata": {},
   "outputs": [],
   "source": [
    "'''\n",
    "Some patients don't have both the microRNA and mRNA files, so we\n",
    "need to remove those from analysis. Some also have samples from\n",
    "healthy tissue, which we will use later in the project but are\n",
    "removing for now. Thus, we want patients that only have 2 files\n",
    "associated to them.\n",
    "'''\n",
    "\n",
    "# List of Case IDs that have the right number of files\n",
    "tumor_case_ids = []\n",
    "\n",
    "# For each Case ID\n",
    "for key in case_id_dict:\n",
    "    # If they have 2 files, add them to the list of files to use\n",
    "    if len(case_id_dict[key]) == 2:\n",
    "        tumor_case_ids.append(key)"
   ]
  },
  {
   "cell_type": "code",
   "execution_count": 43,
   "metadata": {},
   "outputs": [],
   "source": [
    "# Looking at microRNA counts for 500 patients\n",
    "num_patients = 500\n",
    "cases = tumor_case_ids[0:num_patients]\n",
    "\n",
    "mirna_98_data=[]\n",
    "\n",
    "# For each patient\n",
    "for case in cases:\n",
    "    # Get their case files\n",
    "    case_files = case_id_dict[case]\n",
    "    for file in case_files:\n",
    "        # Get the microRNA file\n",
    "        if file[-1] == 't':\n",
    "            case_file_mrna = path + file\n",
    "            # Load the microRNA file as an array\n",
    "            mrnas = np.loadtxt(case_file_mrna, dtype='str')\n",
    "            # Removing the column titles\n",
    "            mrnas = np.delete(mrnas, 0, 0)\n",
    "            # Getting the counts of the miRNA 98 \n",
    "            mrna_df= pd.DataFrame(mrnas)\n",
    "            index= mrna_df.index[mrna_df[0]=='hsa-mir-98'].tolist()\n",
    "            mir_98_count_series= mrna_df.iloc[index, 1]\n",
    "            mir_98_count= mir_98_count_series.item()\n",
    "            # append to list of counts \n",
    "            mirna_98_data.append(mir_98_count)\n",
    "            \n",
    "\n"
   ]
  },
  {
   "cell_type": "code",
   "execution_count": 75,
   "metadata": {},
   "outputs": [
    {
     "name": "stdout",
     "output_type": "stream",
     "text": [
      "The history saving thread hit an unexpected error (OperationalError('database or disk is full')).History will not be written to the database.\n"
     ]
    },
    {
     "data": {
      "text/plain": [
       "Text(0.5, 1.0, 'Histogram of MiRNA hsa-mir-98 Read Counts')"
      ]
     },
     "execution_count": 75,
     "metadata": {},
     "output_type": "execute_result"
    },
    {
     "data": {
      "image/png": "[encoded data removed]",
      "text/plain": [
       "<Figure size 432x288 with 1 Axes>"
      ]
     },
     "metadata": {
      "needs_background": "light"
     },
     "output_type": "display_data"
    }
   ],
   "source": [
    "#Convert data list to list of integers\n",
    "mirna_98_data=[int(i) for i in mirna_98_data]\n",
    "\n",
    "#Create histogram of read counts for hsa-mir-98\n",
    "plt.hist(mirna_98_data, bins=20)\n",
    "plt.grid(True)\n",
    "plt.xlabel('Read Count')\n",
    "plt.ylabel('Frequency')\n",
    "plt.title(\"Histogram of MiRNA hsa-mir-98 Read Counts\")"
   ]
  }
 ],
 "metadata": {
  "interpreter": {
   "hash": "aee8b7b246df8f9039afb4144a1f6fd8d2ca17a180786b69acc140d282b71a49"
  },
  "kernelspec": {
   "display_name": "Python 3.9.0 64-bit",
   "language": "python",
   "name": "python3"
  },
  "language_info": {
   "codemirror_mode": {
    "name": "ipython",
    "version": 3
   },
   "file_extension": ".py",
   "mimetype": "text/x-python",
   "name": "python",
   "nbconvert_exporter": "python",
   "pygments_lexer": "ipython3",
   "version": "3.7.11"
  },
  "orig_nbformat": 4
 },
 "nbformat": 4,
 "nbformat_minor": 2
}
